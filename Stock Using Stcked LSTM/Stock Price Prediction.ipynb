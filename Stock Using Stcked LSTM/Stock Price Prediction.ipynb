{
 "cells": [
  {
   "cell_type": "code",
   "execution_count": 1,
   "metadata": {},
   "outputs": [],
   "source": [
    "import pandas as pd"
   ]
  },
  {
   "cell_type": "code",
   "execution_count": 2,
   "metadata": {},
   "outputs": [],
   "source": [
    "df = pd.read_csv(\"AAPL.csv\")"
   ]
  },
  {
   "cell_type": "code",
   "execution_count": 3,
   "metadata": {},
   "outputs": [
    {
     "data": {
      "text/html": [
       "<div>\n",
       "<style scoped>\n",
       "    .dataframe tbody tr th:only-of-type {\n",
       "        vertical-align: middle;\n",
       "    }\n",
       "\n",
       "    .dataframe tbody tr th {\n",
       "        vertical-align: top;\n",
       "    }\n",
       "\n",
       "    .dataframe thead th {\n",
       "        text-align: right;\n",
       "    }\n",
       "</style>\n",
       "<table border=\"1\" class=\"dataframe\">\n",
       "  <thead>\n",
       "    <tr style=\"text-align: right;\">\n",
       "      <th></th>\n",
       "      <th>Date</th>\n",
       "      <th>Open</th>\n",
       "      <th>High</th>\n",
       "      <th>Low</th>\n",
       "      <th>Close</th>\n",
       "      <th>Adj Close</th>\n",
       "      <th>Volume</th>\n",
       "    </tr>\n",
       "  </thead>\n",
       "  <tbody>\n",
       "    <tr>\n",
       "      <td>0</td>\n",
       "      <td>2010-01-04</td>\n",
       "      <td>30.490000</td>\n",
       "      <td>30.642857</td>\n",
       "      <td>30.340000</td>\n",
       "      <td>30.572857</td>\n",
       "      <td>26.538483</td>\n",
       "      <td>123432400</td>\n",
       "    </tr>\n",
       "    <tr>\n",
       "      <td>1</td>\n",
       "      <td>2010-01-05</td>\n",
       "      <td>30.657143</td>\n",
       "      <td>30.798571</td>\n",
       "      <td>30.464285</td>\n",
       "      <td>30.625713</td>\n",
       "      <td>26.584366</td>\n",
       "      <td>150476200</td>\n",
       "    </tr>\n",
       "    <tr>\n",
       "      <td>2</td>\n",
       "      <td>2010-01-06</td>\n",
       "      <td>30.625713</td>\n",
       "      <td>30.747143</td>\n",
       "      <td>30.107143</td>\n",
       "      <td>30.138571</td>\n",
       "      <td>26.161509</td>\n",
       "      <td>138040000</td>\n",
       "    </tr>\n",
       "    <tr>\n",
       "      <td>3</td>\n",
       "      <td>2010-01-07</td>\n",
       "      <td>30.250000</td>\n",
       "      <td>30.285715</td>\n",
       "      <td>29.864286</td>\n",
       "      <td>30.082857</td>\n",
       "      <td>26.113146</td>\n",
       "      <td>119282800</td>\n",
       "    </tr>\n",
       "    <tr>\n",
       "      <td>4</td>\n",
       "      <td>2010-01-08</td>\n",
       "      <td>30.042856</td>\n",
       "      <td>30.285715</td>\n",
       "      <td>29.865715</td>\n",
       "      <td>30.282858</td>\n",
       "      <td>26.286753</td>\n",
       "      <td>111902700</td>\n",
       "    </tr>\n",
       "  </tbody>\n",
       "</table>\n",
       "</div>"
      ],
      "text/plain": [
       "         Date       Open       High        Low      Close  Adj Close  \\\n",
       "0  2010-01-04  30.490000  30.642857  30.340000  30.572857  26.538483   \n",
       "1  2010-01-05  30.657143  30.798571  30.464285  30.625713  26.584366   \n",
       "2  2010-01-06  30.625713  30.747143  30.107143  30.138571  26.161509   \n",
       "3  2010-01-07  30.250000  30.285715  29.864286  30.082857  26.113146   \n",
       "4  2010-01-08  30.042856  30.285715  29.865715  30.282858  26.286753   \n",
       "\n",
       "      Volume  \n",
       "0  123432400  \n",
       "1  150476200  \n",
       "2  138040000  \n",
       "3  119282800  \n",
       "4  111902700  "
      ]
     },
     "execution_count": 3,
     "metadata": {},
     "output_type": "execute_result"
    }
   ],
   "source": [
    "df.head()"
   ]
  },
  {
   "cell_type": "code",
   "execution_count": 4,
   "metadata": {},
   "outputs": [
    {
     "data": {
      "text/html": [
       "<div>\n",
       "<style scoped>\n",
       "    .dataframe tbody tr th:only-of-type {\n",
       "        vertical-align: middle;\n",
       "    }\n",
       "\n",
       "    .dataframe tbody tr th {\n",
       "        vertical-align: top;\n",
       "    }\n",
       "\n",
       "    .dataframe thead th {\n",
       "        text-align: right;\n",
       "    }\n",
       "</style>\n",
       "<table border=\"1\" class=\"dataframe\">\n",
       "  <thead>\n",
       "    <tr style=\"text-align: right;\">\n",
       "      <th></th>\n",
       "      <th>Date</th>\n",
       "      <th>Open</th>\n",
       "      <th>High</th>\n",
       "      <th>Low</th>\n",
       "      <th>Close</th>\n",
       "      <th>Adj Close</th>\n",
       "      <th>Volume</th>\n",
       "    </tr>\n",
       "  </thead>\n",
       "  <tbody>\n",
       "    <tr>\n",
       "      <td>2537</td>\n",
       "      <td>2020-02-03</td>\n",
       "      <td>304.299988</td>\n",
       "      <td>313.489990</td>\n",
       "      <td>302.220001</td>\n",
       "      <td>308.660004</td>\n",
       "      <td>307.929199</td>\n",
       "      <td>43496400</td>\n",
       "    </tr>\n",
       "    <tr>\n",
       "      <td>2538</td>\n",
       "      <td>2020-02-04</td>\n",
       "      <td>315.309998</td>\n",
       "      <td>319.640015</td>\n",
       "      <td>313.630005</td>\n",
       "      <td>318.850006</td>\n",
       "      <td>318.095062</td>\n",
       "      <td>34154100</td>\n",
       "    </tr>\n",
       "    <tr>\n",
       "      <td>2539</td>\n",
       "      <td>2020-02-05</td>\n",
       "      <td>323.519989</td>\n",
       "      <td>324.760010</td>\n",
       "      <td>318.950012</td>\n",
       "      <td>321.450012</td>\n",
       "      <td>320.688934</td>\n",
       "      <td>29706700</td>\n",
       "    </tr>\n",
       "    <tr>\n",
       "      <td>2540</td>\n",
       "      <td>2020-02-06</td>\n",
       "      <td>322.570007</td>\n",
       "      <td>325.220001</td>\n",
       "      <td>320.260010</td>\n",
       "      <td>325.209991</td>\n",
       "      <td>324.440002</td>\n",
       "      <td>26356400</td>\n",
       "    </tr>\n",
       "    <tr>\n",
       "      <td>2541</td>\n",
       "      <td>2020-02-07</td>\n",
       "      <td>322.369995</td>\n",
       "      <td>323.399994</td>\n",
       "      <td>318.000000</td>\n",
       "      <td>320.029999</td>\n",
       "      <td>320.029999</td>\n",
       "      <td>29357800</td>\n",
       "    </tr>\n",
       "  </tbody>\n",
       "</table>\n",
       "</div>"
      ],
      "text/plain": [
       "            Date        Open        High         Low       Close   Adj Close  \\\n",
       "2537  2020-02-03  304.299988  313.489990  302.220001  308.660004  307.929199   \n",
       "2538  2020-02-04  315.309998  319.640015  313.630005  318.850006  318.095062   \n",
       "2539  2020-02-05  323.519989  324.760010  318.950012  321.450012  320.688934   \n",
       "2540  2020-02-06  322.570007  325.220001  320.260010  325.209991  324.440002   \n",
       "2541  2020-02-07  322.369995  323.399994  318.000000  320.029999  320.029999   \n",
       "\n",
       "        Volume  \n",
       "2537  43496400  \n",
       "2538  34154100  \n",
       "2539  29706700  \n",
       "2540  26356400  \n",
       "2541  29357800  "
      ]
     },
     "execution_count": 4,
     "metadata": {},
     "output_type": "execute_result"
    }
   ],
   "source": [
    "df.tail()"
   ]
  },
  {
   "cell_type": "code",
   "execution_count": 9,
   "metadata": {},
   "outputs": [
    {
     "data": {
      "text/plain": [
       "0    30.572857\n",
       "1    30.625713\n",
       "2    30.138571\n",
       "3    30.082857\n",
       "4    30.282858\n",
       "Name: Close, dtype: float64"
      ]
     },
     "execution_count": 9,
     "metadata": {},
     "output_type": "execute_result"
    }
   ],
   "source": [
    "df1=df.reset_index()['Close']\n",
    "df1.head()"
   ]
  },
  {
   "cell_type": "code",
   "execution_count": 13,
   "metadata": {},
   "outputs": [
    {
     "data": {
      "text/plain": [
       "[<matplotlib.lines.Line2D at 0x18e3ccd5ac8>]"
      ]
     },
     "execution_count": 13,
     "metadata": {},
     "output_type": "execute_result"
    },
    {
     "data": {
      "image/png": "[encoded data removed]",
      "text/plain": [
       "<Figure size 432x288 with 1 Axes>"
      ]
     },
     "metadata": {
      "needs_background": "light"
     },
     "output_type": "display_data"
    }
   ],
   "source": [
    "import matplotlib.pyplot as plt\n",
    "plt.plot(df1,)"
   ]
  },
  {
   "cell_type": "code",
   "execution_count": 15,
   "metadata": {},
   "outputs": [],
   "source": [
    "### LSTM are sensitive to the scale of the data. so we apply MinMax scaler"
   ]
  },
  {
   "cell_type": "code",
   "execution_count": 16,
   "metadata": {},
   "outputs": [],
   "source": [
    "import numpy as np"
   ]
  },
  {
   "cell_type": "code",
   "execution_count": 18,
   "metadata": {},
   "outputs": [],
   "source": [
    "from sklearn.preprocessing import MinMaxScaler\n",
    "scaler = MinMaxScaler(feature_range=(0,1))\n",
    "df1=scaler.fit_transform(np.array(df1).reshape(-1,1))"
   ]
  },
  {
   "cell_type": "code",
   "execution_count": 19,
   "metadata": {},
   "outputs": [
    {
     "data": {
      "text/plain": [
       "array([[0.0105353 ],\n",
       "       [0.01071281],\n",
       "       [0.00907686],\n",
       "       ...,\n",
       "       [0.98737306],\n",
       "       [1.        ],\n",
       "       [0.9826043 ]])"
      ]
     },
     "execution_count": 19,
     "metadata": {},
     "output_type": "execute_result"
    }
   ],
   "source": [
    "df1"
   ]
  },
  {
   "cell_type": "code",
   "execution_count": 20,
   "metadata": {},
   "outputs": [],
   "source": [
    "##splitting dataset into train and test split\n",
    "training_size=int(len(df1)*0.70)\n",
    "test_size=len(df1)-training_size\n",
    "train_data,test_data=df1[0:training_size,:],df1[training_size:len(df1),:1]"
   ]
  },
  {
   "cell_type": "code",
   "execution_count": 25,
   "metadata": {},
   "outputs": [
    {
     "data": {
      "text/plain": [
       "1779"
      ]
     },
     "execution_count": 25,
     "metadata": {},
     "output_type": "execute_result"
    }
   ],
   "source": [
    "training_size\n",
    "#test_size"
   ]
  },
  {
   "cell_type": "code",
   "execution_count": 21,
   "metadata": {},
   "outputs": [
    {
     "data": {
      "text/plain": [
       "array([[0.0105353 ],\n",
       "       [0.01071281],\n",
       "       [0.00907686],\n",
       "       ...,\n",
       "       [0.31075312],\n",
       "       [0.31716736],\n",
       "       [0.31736888]])"
      ]
     },
     "execution_count": 21,
     "metadata": {},
     "output_type": "execute_result"
    }
   ],
   "source": [
    "train_data"
   ]
  },
  {
   "cell_type": "code",
   "execution_count": 28,
   "metadata": {},
   "outputs": [],
   "source": [
    "import numpy"
   ]
  },
  {
   "cell_type": "code",
   "execution_count": 29,
   "metadata": {},
   "outputs": [],
   "source": [
    "# convert an array of values into a dataset matrix\n",
    "def create_dataset(dataset, time_step=1):\n",
    "\tdataX, dataY = [], []\n",
    "\tfor i in range(len(dataset)-time_step-1):\n",
    "\t\ta = dataset[i:(i+time_step), 0]   ###i=0, 0,1,2,3-----99   100 \n",
    "\t\tdataX.append(a)\n",
    "\t\tdataY.append(dataset[i + time_step, 0])\n",
    "\treturn numpy.array(dataX), numpy.array(dataY)"
   ]
  },
  {
   "cell_type": "code",
   "execution_count": 30,
   "metadata": {},
   "outputs": [],
   "source": [
    "# reshape into X=t,t+1,t+2,t+3 and Y=t+4\n",
    "time_step = 100\n",
    "X_train, y_train = create_dataset(train_data, time_step)\n",
    "X_test, ytest = create_dataset(test_data, time_step)"
   ]
  },
  {
   "cell_type": "code",
   "execution_count": 31,
   "metadata": {},
   "outputs": [
    {
     "name": "stdout",
     "output_type": "stream",
     "text": [
      "(1678, 100)\n",
      "(1678,)\n"
     ]
    },
    {
     "data": {
      "text/plain": [
       "(None, None)"
      ]
     },
     "execution_count": 31,
     "metadata": {},
     "output_type": "execute_result"
    }
   ],
   "source": [
    "print(X_train.shape), print(y_train.shape)"
   ]
  },
  {
   "cell_type": "code",
   "execution_count": 32,
   "metadata": {},
   "outputs": [],
   "source": [
    "# reshape input to be [samples, time steps, features] which is required for LSTM\n",
    "X_train =X_train.reshape(X_train.shape[0],X_train.shape[1] , 1)\n",
    "X_test = X_test.reshape(X_test.shape[0],X_test.shape[1] , 1)"
   ]
  },
  {
   "cell_type": "code",
   "execution_count": 33,
   "metadata": {},
   "outputs": [],
   "source": [
    "\n",
    "### Create the Stacked LSTM model\n",
    "from tensorflow.keras.models import Sequential\n",
    "from tensorflow.keras.layers import Dense\n",
    "from tensorflow.keras.layers import LSTM"
   ]
  },
  {
   "cell_type": "code",
   "execution_count": 34,
   "metadata": {},
   "outputs": [],
   "source": [
    "model=Sequential()\n",
    "model.add(LSTM(50,return_sequences=True,input_shape=(100,1)))\n",
    "model.add(LSTM(50,return_sequences=True))\n",
    "model.add(LSTM(50))\n",
    "model.add(Dense(1))\n",
    "model.compile(loss='mean_squared_error',optimizer='adam')"
   ]
  },
  {
   "cell_type": "code",
   "execution_count": 35,
   "metadata": {},
   "outputs": [
    {
     "name": "stdout",
     "output_type": "stream",
     "text": [
      "Model: \"sequential\"\n",
      "_________________________________________________________________\n",
      "Layer (type)                 Output Shape              Param #   \n",
      "=================================================================\n",
      "lstm (LSTM)                  (None, 100, 50)           10400     \n",
      "_________________________________________________________________\n",
      "lstm_1 (LSTM)                (None, 100, 50)           20200     \n",
      "_________________________________________________________________\n",
      "lstm_2 (LSTM)                (None, 50)                20200     \n",
      "_________________________________________________________________\n",
      "dense (Dense)                (None, 1)                 51        \n",
      "=================================================================\n",
      "Total params: 50,851\n",
      "Trainable params: 50,851\n",
      "Non-trainable params: 0\n",
      "_________________________________________________________________\n"
     ]
    }
   ],
   "source": [
    "\n",
    "model.summary()"
   ]
  },
  {
   "cell_type": "code",
   "execution_count": 36,
   "metadata": {},
   "outputs": [
    {
     "name": "stdout",
     "output_type": "stream",
     "text": [
      "Train on 1678 samples, validate on 662 samples\n",
      "Epoch 1/50\n",
      "1678/1678 [==============================] - 21s 13ms/sample - loss: 0.0061 - val_loss: 0.0145\n",
      "Epoch 2/50\n",
      "1678/1678 [==============================] - 9s 5ms/sample - loss: 3.8289e-04 - val_loss: 0.0014\n",
      "Epoch 3/50\n",
      "1678/1678 [==============================] - 9s 6ms/sample - loss: 1.6750e-04 - val_loss: 0.0023\n",
      "Epoch 4/50\n",
      "1678/1678 [==============================] - 9s 5ms/sample - loss: 1.6312e-04 - val_loss: 0.0023\n",
      "Epoch 5/50\n",
      "1678/1678 [==============================] - 9s 5ms/sample - loss: 1.6128e-04 - val_loss: 0.0017\n",
      "Epoch 6/50\n",
      "1678/1678 [==============================] - 9s 5ms/sample - loss: 1.6306e-04 - val_loss: 0.0022\n",
      "Epoch 7/50\n",
      "1678/1678 [==============================] - 9s 5ms/sample - loss: 1.5227e-04 - val_loss: 0.0023\n",
      "Epoch 8/50\n",
      "1678/1678 [==============================] - 9s 5ms/sample - loss: 1.5306e-04 - val_loss: 0.0032\n",
      "Epoch 9/50\n",
      "1678/1678 [==============================] - 9s 5ms/sample - loss: 1.5182e-04 - val_loss: 0.0018\n",
      "Epoch 10/50\n",
      "1678/1678 [==============================] - 9s 5ms/sample - loss: 1.4257e-04 - val_loss: 0.0016\n",
      "Epoch 11/50\n",
      "1678/1678 [==============================] - 9s 5ms/sample - loss: 1.4221e-04 - val_loss: 0.0028\n",
      "Epoch 12/50\n",
      "1678/1678 [==============================] - 9s 6ms/sample - loss: 1.3893e-04 - val_loss: 0.0020\n",
      "Epoch 13/50\n",
      "1678/1678 [==============================] - 9s 5ms/sample - loss: 1.3509e-04 - val_loss: 0.0023\n",
      "Epoch 14/50\n",
      "1678/1678 [==============================] - 9s 5ms/sample - loss: 1.3155e-04 - val_loss: 0.0017\n",
      "Epoch 15/50\n",
      "1678/1678 [==============================] - 9s 5ms/sample - loss: 1.2358e-04 - val_loss: 0.0015\n",
      "Epoch 16/50\n",
      "1678/1678 [==============================] - 9s 6ms/sample - loss: 1.2315e-04 - val_loss: 0.0015\n",
      "Epoch 17/50\n",
      "1678/1678 [==============================] - 9s 6ms/sample - loss: 1.2753e-04 - val_loss: 0.0015\n",
      "Epoch 18/50\n",
      "1678/1678 [==============================] - 9s 6ms/sample - loss: 1.2418e-04 - val_loss: 0.0015\n",
      "Epoch 19/50\n",
      "1678/1678 [==============================] - 9s 6ms/sample - loss: 1.1412e-04 - val_loss: 0.0017\n",
      "Epoch 20/50\n",
      "1678/1678 [==============================] - 9s 6ms/sample - loss: 1.1939e-04 - val_loss: 0.0016\n",
      "Epoch 21/50\n",
      "1678/1678 [==============================] - 9s 5ms/sample - loss: 1.1348e-04 - val_loss: 0.0012\n",
      "Epoch 22/50\n",
      "1678/1678 [==============================] - 9s 6ms/sample - loss: 1.2703e-04 - val_loss: 0.0016\n",
      "Epoch 23/50\n",
      "1678/1678 [==============================] - 9s 6ms/sample - loss: 1.2494e-04 - val_loss: 0.0010\n",
      "Epoch 24/50\n",
      "1678/1678 [==============================] - 10s 6ms/sample - loss: 1.2165e-04 - val_loss: 9.8878e-04\n",
      "Epoch 25/50\n",
      "1678/1678 [==============================] - 9s 5ms/sample - loss: 1.1018e-04 - val_loss: 0.0011\n",
      "Epoch 26/50\n",
      "1678/1678 [==============================] - 9s 5ms/sample - loss: 1.1026e-04 - val_loss: 8.4618e-04\n",
      "Epoch 27/50\n",
      "1678/1678 [==============================] - 9s 5ms/sample - loss: 1.0660e-04 - val_loss: 0.0014\n",
      "Epoch 28/50\n",
      "1678/1678 [==============================] - 9s 5ms/sample - loss: 1.0229e-04 - val_loss: 0.0021\n",
      "Epoch 29/50\n",
      "1678/1678 [==============================] - 9s 5ms/sample - loss: 1.0124e-04 - val_loss: 0.0021\n",
      "Epoch 30/50\n",
      "1678/1678 [==============================] - 9s 6ms/sample - loss: 1.0902e-04 - val_loss: 0.0017\n",
      "Epoch 31/50\n",
      "1678/1678 [==============================] - 9s 6ms/sample - loss: 1.0453e-04 - val_loss: 0.0022\n",
      "Epoch 32/50\n",
      "1678/1678 [==============================] - 10s 6ms/sample - loss: 1.2075e-04 - val_loss: 0.0020\n",
      "Epoch 33/50\n",
      "1678/1678 [==============================] - 10s 6ms/sample - loss: 9.8767e-05 - val_loss: 0.0026\n",
      "Epoch 34/50\n",
      "1678/1678 [==============================] - 10s 6ms/sample - loss: 9.8671e-05 - val_loss: 0.0013\n",
      "Epoch 35/50\n",
      "1678/1678 [==============================] - 10s 6ms/sample - loss: 9.0506e-05 - val_loss: 0.0019\n",
      "Epoch 36/50\n",
      "1678/1678 [==============================] - 9s 5ms/sample - loss: 9.6707e-05 - val_loss: 0.0010\n",
      "Epoch 37/50\n",
      "1678/1678 [==============================] - 9s 6ms/sample - loss: 9.4593e-05 - val_loss: 0.0016\n",
      "Epoch 38/50\n",
      "1678/1678 [==============================] - 9s 5ms/sample - loss: 8.8064e-05 - val_loss: 0.0013\n",
      "Epoch 39/50\n",
      "1678/1678 [==============================] - 9s 5ms/sample - loss: 9.0156e-05 - val_loss: 0.0012\n",
      "Epoch 40/50\n",
      "1678/1678 [==============================] - 9s 5ms/sample - loss: 1.0849e-04 - val_loss: 0.0011\n",
      "Epoch 41/50\n",
      "1678/1678 [==============================] - 9s 5ms/sample - loss: 8.5885e-05 - val_loss: 8.0317e-04\n",
      "Epoch 42/50\n",
      "1678/1678 [==============================] - 10s 6ms/sample - loss: 9.8010e-05 - val_loss: 0.0013\n",
      "Epoch 43/50\n",
      "1678/1678 [==============================] - 9s 6ms/sample - loss: 8.8013e-05 - val_loss: 0.0010\n",
      "Epoch 44/50\n",
      "1678/1678 [==============================] - 9s 6ms/sample - loss: 9.0714e-05 - val_loss: 0.0010\n",
      "Epoch 45/50\n",
      "1678/1678 [==============================] - 9s 6ms/sample - loss: 8.2950e-05 - val_loss: 0.0011\n",
      "Epoch 46/50\n",
      "1678/1678 [==============================] - 10s 6ms/sample - loss: 8.1140e-05 - val_loss: 0.0011\n",
      "Epoch 47/50\n",
      "1678/1678 [==============================] - 9s 6ms/sample - loss: 8.5937e-05 - val_loss: 9.1837e-04\n",
      "Epoch 48/50\n",
      "1678/1678 [==============================] - 10s 6ms/sample - loss: 8.3744e-05 - val_loss: 0.0013\n",
      "Epoch 49/50\n",
      "1678/1678 [==============================] - 10s 6ms/sample - loss: 7.9417e-05 - val_loss: 0.0015\n",
      "Epoch 50/50\n",
      "1678/1678 [==============================] - 10s 6ms/sample - loss: 7.6108e-05 - val_loss: 8.3178e-04\n"
     ]
    },
    {
     "data": {
      "text/plain": [
       "<tensorflow.python.keras.callbacks.History at 0x18e4869fec8>"
      ]
     },
     "execution_count": 36,
     "metadata": {},
     "output_type": "execute_result"
    }
   ],
   "source": [
    "model.fit(X_train,y_train,validation_data=(X_test,ytest),epochs=50,batch_size=64,verbose=1)"
   ]
  },
  {
   "cell_type": "code",
   "execution_count": 37,
   "metadata": {},
   "outputs": [],
   "source": [
    "### Lets Do the prediction and check performance metrics\n",
    "train_predict=model.predict(X_train)\n",
    "test_predict=model.predict(X_test)"
   ]
  },
  {
   "cell_type": "code",
   "execution_count": 38,
   "metadata": {},
   "outputs": [],
   "source": [
    "##Transformback to original form\n",
    "train_predict=scaler.inverse_transform(train_predict)\n",
    "test_predict=scaler.inverse_transform(test_predict)"
   ]
  },
  {
   "cell_type": "code",
   "execution_count": 39,
   "metadata": {},
   "outputs": [
    {
     "data": {
      "text/plain": [
       "86.93419501881682"
      ]
     },
     "execution_count": 39,
     "metadata": {},
     "output_type": "execute_result"
    }
   ],
   "source": [
    "### Calculate RMSE performance metrics\n",
    "import math\n",
    "from sklearn.metrics import mean_squared_error\n",
    "math.sqrt(mean_squared_error(y_train,train_predict))"
   ]
  },
  {
   "cell_type": "code",
   "execution_count": 40,
   "metadata": {},
   "outputs": [
    {
     "data": {
      "text/plain": [
       "192.82413512773053"
      ]
     },
     "execution_count": 40,
     "metadata": {},
     "output_type": "execute_result"
    }
   ],
   "source": [
    "### Test Data RMSE\n",
    "math.sqrt(mean_squared_error(ytest,test_predict))"
   ]
  },
  {
   "cell_type": "code",
   "execution_count": 41,
   "metadata": {},
   "outputs": [
    {
     "data": {
      "image/png": "[encoded data removed]",
      "text/plain": [
       "<Figure size 432x288 with 1 Axes>"
      ]
     },
     "metadata": {
      "needs_background": "light"
     },
     "output_type": "display_data"
    }
   ],
   "source": [
    "### Plotting \n",
    "# shift train predictions for plotting\n",
    "look_back=100\n",
    "trainPredictPlot = numpy.empty_like(df1)\n",
    "trainPredictPlot[:, :] = np.nan\n",
    "trainPredictPlot[look_back:len(train_predict)+look_back, :] = train_predict\n",
    "# shift test predictions for plotting\n",
    "testPredictPlot = numpy.empty_like(df1)\n",
    "testPredictPlot[:, :] = numpy.nan\n",
    "testPredictPlot[len(train_predict)+(look_back*2)+1:len(df1)-1, :] = test_predict\n",
    "# plot baseline and predictions\n",
    "plt.plot(scaler.inverse_transform(df1))\n",
    "plt.plot(trainPredictPlot)\n",
    "plt.plot(testPredictPlot)\n",
    "plt.show()"
   ]
  },
  {
   "cell_type": "code",
   "execution_count": null,
   "metadata": {},
   "outputs": [],
   "source": [
    "x_input=test_data[341:].reshape(1,-1)\n",
    "x_input.shape"
   ]
  },
  {
   "cell_type": "code",
   "execution_count": null,
   "metadata": {},
   "outputs": [],
   "source": [
    "temp_input=list(x_input)\n",
    "temp_input=temp_input[0].tolist()\n",
    "temp_input"
   ]
  },
  {
   "cell_type": "code",
   "execution_count": null,
   "metadata": {},
   "outputs": [],
   "source": [
    "# demonstrate prediction for next 10 days\n",
    "from numpy import array\n",
    "\n",
    "lst_output=[]\n",
    "n_steps=100\n",
    "i=0\n",
    "while(i<30):\n",
    "    \n",
    "    if(len(temp_input)>100):\n",
    "        #print(temp_input)\n",
    "        x_input=np.array(temp_input[1:])\n",
    "        print(\"{} day input {}\".format(i,x_input))\n",
    "        x_input=x_input.reshape(1,-1)\n",
    "        x_input = x_input.reshape((1, n_steps, 1))\n",
    "        #print(x_input)\n",
    "        yhat = model.predict(x_input, verbose=0)\n",
    "        print(\"{} day output {}\".format(i,yhat))\n",
    "        temp_input.extend(yhat[0].tolist())\n",
    "        temp_input=temp_input[1:]\n",
    "        #print(temp_input)\n",
    "        lst_output.extend(yhat.tolist())\n",
    "        i=i+1\n",
    "    else:\n",
    "        x_input = x_input.reshape((1, n_steps,1))\n",
    "        yhat = model.predict(x_input, verbose=0)\n",
    "        print(yhat[0])\n",
    "        temp_input.extend(yhat[0].tolist())\n",
    "        print(len(temp_input))\n",
    "        lst_output.extend(yhat.tolist())\n",
    "        i=i+1\n",
    "    \n",
    "\n",
    "print(lst_output)"
   ]
  },
  {
   "cell_type": "code",
   "execution_count": null,
   "metadata": {},
   "outputs": [],
   "source": [
    "\n",
    "day_new=np.arange(1,101)\n",
    "day_pred=np.arange(101,131)"
   ]
  },
  {
   "cell_type": "code",
   "execution_count": null,
   "metadata": {},
   "outputs": [],
   "source": [
    "plt.plot(day_new,scaler.inverse_transform(df1[1158:]))\n",
    "plt.plot(day_pred,scaler.inverse_transform(lst_output))"
   ]
  },
  {
   "cell_type": "code",
   "execution_count": null,
   "metadata": {},
   "outputs": [],
   "source": [
    "df3=df1.tolist()\n",
    "df3.extend(lst_output)\n",
    "plt.plot(df3[1200:])"
   ]
  },
  {
   "cell_type": "code",
   "execution_count": null,
   "metadata": {},
   "outputs": [],
   "source": [
    "df3=scaler.inverse_transform(df3).tolist()"
   ]
  },
  {
   "cell_type": "code",
   "execution_count": null,
   "metadata": {},
   "outputs": [],
   "source": [
    "plt.plot(df3)"
   ]
  },
  {
   "cell_type": "code",
   "execution_count": null,
   "metadata": {},
   "outputs": [],
   "source": []
  },
  {
   "cell_type": "code",
   "execution_count": null,
   "metadata": {},
   "outputs": [],
   "source": []
  }
 ],
 "metadata": {
  "kernelspec": {
   "display_name": "Python 3",
   "language": "python",
   "name": "python3"
  },
  "language_info": {
   "codemirror_mode": {
    "name": "ipython",
    "version": 3
   },
   "file_extension": ".py",
   "mimetype": "text/x-python",
   "name": "python",
   "nbconvert_exporter": "python",
   "pygments_lexer": "ipython3",
   "version": "3.7.4"
  }
 },
 "nbformat": 4,
 "nbformat_minor": 2
}
